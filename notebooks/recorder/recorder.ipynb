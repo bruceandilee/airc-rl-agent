{
 "cells": [
  {
   "cell_type": "code",
   "execution_count": null,
   "metadata": {
    "collapsed": true
   },
   "outputs": [],
   "source": [
    "import gym\n",
    "import gym_donkeycar\n",
    "from learning_racer.commands.subcommand import _load_vae\n"
   ]
  },
  {
   "cell_type": "markdown",
   "source": [
    "ここはプロセス間通信を使って、コントローラの値をバックエンドに投げるだけにしよう。\n",
    "Windowdだと使えないかもしれない。\n"
   ],
   "metadata": {
    "collapsed": false,
    "pycharm": {
     "name": "#%% md\n"
    }
   }
  },
  {
   "cell_type": "code",
   "source": [
    "exe_path = ''\n",
    "port = ''\n",
    "conf = { \"exe_path\" : exe_path, \"port\" : port }\n",
    "env = gym.make(\"donkey-generated-track-v0\", conf=conf)\n",
    "\n",
    "obs = env.reset()\n",
    "\n",
    "model.path\n",
    "\n",
    "_load_vae()\n",
    "for t in range(100):\n",
    "    obs, reward, done, info = \\\n",
    "        env.step(env.action_space.sample())\n",
    "env.close()\n",
    "\n",
    "\n",
    "\n",
    "\n"
   ],
   "metadata": {
    "collapsed": false,
    "pycharm": {
     "name": "#%%\n"
    }
   },
   "execution_count": null,
   "outputs": []
  }
 ],
 "metadata": {
  "kernelspec": {
   "display_name": "Python 3",
   "language": "python",
   "name": "python3"
  },
  "language_info": {
   "codemirror_mode": {
    "name": "ipython",
    "version": 2
   },
   "file_extension": ".py",
   "mimetype": "text/x-python",
   "name": "python",
   "nbconvert_exporter": "python",
   "pygments_lexer": "ipython2",
   "version": "2.7.6"
  }
 },
 "nbformat": 4,
 "nbformat_minor": 0
}